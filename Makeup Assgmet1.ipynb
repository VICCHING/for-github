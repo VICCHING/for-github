{
 "cells": [
  {
   "cell_type": "code",
   "execution_count": 8,
   "metadata": {},
   "outputs": [
    {
     "name": "stdout",
     "output_type": "stream",
     "text": [
      "how would you like to view this data? \n",
      "\n",
      "A...All    B...Sex\n",
      "\n",
      "C...Age     D...State\n",
      "\n"
     ]
    }
   ],
   "source": [
    "import pandas as pd\n",
    "import numpy as np\n",
    "data={\n",
    "\"Names\": [\"Abdulhakeem Abdulssalam\", \"Adepoju Samuel\", \"Akuka Fareedah\", \"Akanbi Khalid\", \"Akapo Abdul-Raheed\", \"Akapo Abdul-salam\", \"Alabi Victor\", \"Alawole Wisdom\", \"Asadu Tobechukwe\", \"Balogun Aishat\", \"Chukwujigha Felix\", \"Chukwunaru David\", \"Esezobor Osemen\", \"Ewuzie Favour\", \"Ezekiel Divine\", \"Idio Daniela\", \"Ihionu Pascal\", \"Ilesanmi Temioluwa\", \"Iweka Joshua\", \"James Bismarck\", \"Mbogu Ekene\", \"Njoku Adanna\", \"Nzekwe Angela\", \"Obinka Emeka\", \"Odofin Hopewell\",\"Ogidi Opeyemi\", \"Ogunwale-Ameer\", \"Okafor Chinedu\", \"Okohasaba-Elue Mark\", \"Okosi Samuel\", \"Okpalugo John\", \"Oladokun Ajibulu\", \"Olaoti Micheal Adebayo\", \"Olododo Omotolani\", \"Omonijo Precious\", \"Onadein Onaara\", \"Onya Chioma\", \"Oyinola Josiah\", \"Patrick Divine\", \"Samuel Erinle\", \"Theodore Emmanuella\", \"Tijani Ololade\", \"Umoh Josiah\", \"Yusuf Muhammed\",\"Chidera Chuka\"], \n",
    "\"Sex\" : [\"M\", \"M\", \"F\", \"F\", \"M\", \"M\", \"M\", \"M\", \"M\", \"M\", \"F\", \"M\", \"M\", \"F\", \"F\", \"M\", \"F\", \"M\", \"F\", \"M\", \"M\", \"M\", \"F\", \"F\", \"M\", \"F\", \"F\", \"M\", \"M\", \"M\", \"M\", \"M\", \"M\", \"M\", \"F\", \"F\", \"M\", \"F\", \"M\", \"M\", \"M\", \"F\", \"F\",\"M\",\"F\"],\n",
    "\"Ages\":[24, 19, 34, 40, 22, 15, 21, 23, 17, 35, 30, 20, 18, 23, 20, 33, 24, 18, 35, 37, 32, 37, 19, 15, 40, 18, 40, 17, 18, 37, 38, 38, 35, 39, 31, 25, 34, 30, 24, 26, 17, 28, 25, 24,29],\n",
    "\"State\":[\"Adamawa\", \"Ogun\", \"Niger\", \"Bauchi\", \"Ondo\", \"Ondo\", \"Osun\", \"Oyo\", \"Anambra\", \"Ekiti\", \"Enugu\", \"Imo\", \"Edo\", \"Plateau\", \"Rivers\", \"Abia\", \"Akwa-Ibom\", \"Oyo\", \"Enugu\", \"Borno\", \"Imo\", \"Abia\", \"Delta\", \"Enugu\", \"Lagos\", \"Kogi\", \"Sokoto\", \"Delta\", \"Edo\", \"Lagos\", \"Benue\", \"Ekiti\", \"Oyo\", \"Oyo\", \"Ogun\", \"Lagos\", \"Edo\", \"Taraba\", \"Kogi\", \"Kwara\", \"Ebonyi\", \"Lagos\", \"kaduna\", \"Kano\",\"Enugu\"]\n",
    "\n",
    "}\n",
    "df= pd.DataFrame(data)\n",
    "print(\"how would you like to view this data? \")\n",
    "print()\n",
    "\n",
    "print(\"A...All    B...Sex\\n\")\n",
    "print(\"C...Age     D...State\\n\" )\n",
    "\n",
    "A = \"All\"\n",
    "B = \"Sex\"\n",
    "C = \"Ages\"\n",
    "D = \"State\"\n",
    "user1 = input(\"Enter a selection : \")\n",
    "if user1 ==\"A\" or user1==\"a\":\n",
    "    print(df)\n",
    "\n",
    "elif user1==\"B\" or user1==\"b\":\n",
    "    user1=input(\"Enter m for male and f for female: \")\n",
    "    if user1==\"M\" or user1==\"m\":\n",
    "        print(df.loc[df[\"Sex\"]==\"F\"])\n",
    "\n",
    "    elif user1==\"F\" or user1 ==\"f\":\n",
    "        print(df.loc[df[\"Sex\"]==\"F\"])\n",
    "\n",
    "elif user1==\"C\" or user1==\"c\":\n",
    "    user1=int(input(\"Enter the Highest age range:\"))\n",
    "    print(df.loc[df[\"Ages\"]<=user1])\n",
    "\n",
    "elif user1==\"D\" or user1==\"d\":\n",
    "    print(\"I'm here\")\n",
    "    user1 = input(\"What state(First letter of the state must be uppercase):\")\n",
    "    print(df.loc[df[\"State\"]==user1])\n",
    "\n",
    "else:\n",
    "    print(\"Data unavailable\")"
   ]
  },
  {
   "cell_type": "code",
   "execution_count": null,
   "metadata": {},
   "outputs": [],
   "source": []
  }
 ],
 "metadata": {
  "interpreter": {
   "hash": "9bf2ca0f4a7adc3ce2f237ca763c1538d3ef289a4e7face3612a01cdae9f6807"
  },
  "kernelspec": {
   "display_name": "Python 3.10.0 64-bit",
   "language": "python",
   "name": "python3"
  },
  "language_info": {
   "codemirror_mode": {
    "name": "ipython",
    "version": 3
   },
   "file_extension": ".py",
   "mimetype": "text/x-python",
   "name": "python",
   "nbconvert_exporter": "python",
   "pygments_lexer": "ipython3",
   "version": "3.10.0"
  },
  "orig_nbformat": 4
 },
 "nbformat": 4,
 "nbformat_minor": 2
}
